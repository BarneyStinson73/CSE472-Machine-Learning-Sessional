{
 "cells": [
  {
   "cell_type": "code",
   "execution_count": 89,
   "metadata": {},
   "outputs": [],
   "source": [
    "import numpy as np\n",
    "class logistic_regression:\n",
    "    def __init__(self):\n",
    "        self.weights = None\n",
    "        self.learning_rate = 0.0001\n",
    "        \n",
    "    def sigmoid(self, x):\n",
    "        return 1 / (1 + np.exp(-x))\n",
    "    \n",
    "    def fit(self, X, y, epochs=10000):\n",
    "        # adding a column of ones to the input matrix\n",
    "        X = np.hstack((np.ones((X.shape[0], 1)), X))\n",
    "        self.weights = np.zeros(X.shape[1])\n",
    "        \n",
    "        for _ in range(epochs):\n",
    "            y_pred = self.sigmoid(np.dot(X, self.weights))\n",
    "            gradient = np.dot(X.T, (y - y_pred))\n",
    "            self.weights += self.learning_rate * gradient\n",
    "            \n",
    "    def predict(self, X):\n",
    "        X = np.hstack((np.ones((X.shape[0], 1)), X))\n",
    "        y_pred = self.sigmoid(np.dot(X, self.weights))\n",
    "        return np.round(y_pred)"
   ]
  },
  {
   "cell_type": "markdown",
   "metadata": {},
   "source": [
    "# Data Preprocessing"
   ]
  },
  {
   "cell_type": "code",
   "execution_count": 90,
   "metadata": {},
   "outputs": [],
   "source": [
    "# preprocessing of a dataset\n",
    "\n",
    "import pandas as pd\n",
    "\n",
    "\n",
    "df=pd.read_csv(\"data1.csv\")\n",
    "df=df.drop(columns=[\"customerID\"],axis=1)\n",
    "df.drop_duplicates(inplace=True)\n",
    "features = df.drop([\"Churn\"], axis=1)\n",
    "target = df[\"Churn\"]\n",
    "\n",
    "# null values\n",
    "features.isnull().sum()\n",
    "# duplicate values\n",
    "features.duplicated().sum()\n",
    "# replacing space in float type columns\n",
    "features[\"TotalCharges\"]=features[\"TotalCharges\"].replace(\" \",np.nan)\n",
    "\n",
    "# features.isnull().sum()\n",
    "features[\"TotalCharges\"]=features[\"TotalCharges\"].astype(float)\n",
    "features.fillna(features[\"TotalCharges\"].mean(),inplace=True)\n",
    "# Label Encoding the target variable\n",
    "from sklearn.preprocessing import LabelEncoder\n",
    "le = LabelEncoder()\n",
    "target = le.fit_transform(target)\n",
    "#  converting object datatype to category\n",
    "categorical_columns=[]\n",
    "for col in features.columns:\n",
    "    if features[col].dtype == 'object':\n",
    "        categorical_columns.append(col)\n",
    "\n",
    "# converting object datatype to category\n",
    "for col in categorical_columns:\n",
    "    features[col] = features[col].astype('category')\n",
    "\n",
    "filter_col=list(features.select_dtypes(exclude=['category']).columns)\n",
    "\n",
    "# one_hot encoding\n",
    "features = pd.get_dummies(features)\n",
    "\n",
    "# scaling the data\n",
    "from sklearn.preprocessing import StandardScaler\n",
    "scaler = StandardScaler()\n",
    "for col in filter_col:\n",
    "    features[col] = scaler.fit_transform(features[[col]])\n",
    "\n",
    "# features.head(10)\n",
    "\n",
    "# target.shape"
   ]
  },
  {
   "cell_type": "markdown",
   "metadata": {},
   "source": [
    "# Bagging"
   ]
  },
  {
   "cell_type": "code",
   "execution_count": 91,
   "metadata": {},
   "outputs": [
    {
     "data": {
      "text/plain": [
       "(1124, 45)"
      ]
     },
     "execution_count": 91,
     "metadata": {},
     "output_type": "execute_result"
    }
   ],
   "source": [
    "# ## Importing Libraries\n",
    "from sklearn.utils import resample\n",
    "from sklearn.model_selection import train_test_split\n",
    "from sklearn.linear_model import LogisticRegression\n",
    "from sklearn.metrics import accuracy_score\n",
    "\n",
    "\n",
    "# ## Splitting the data, 80% for training and 20% for testing, among the training data, 80% for training and 20% for validation\n",
    "x_train, x_test, y_train, y_test = train_test_split(features, target, test_size=0.2, random_state=42)\n",
    "x_train, x_val, y_train, y_val = train_test_split(x_train, y_train, test_size=0.2, random_state=42)\n",
    "x_val.shape"
   ]
  },
  {
   "cell_type": "code",
   "execution_count": 92,
   "metadata": {},
   "outputs": [],
   "source": [
    "\n",
    "features = pd.DataFrame(features)  \n",
    "target = pd.Series(target)         \n",
    "\n",
    "\n",
    "models=[]\n",
    "accuracies=[]\n",
    "\n",
    "for i in range(9):\n",
    "    indices = resample(range(len(x_train)), replace=True, n_samples=int(0.8 * len(x_train)))\n",
    "    \n",
    "\n",
    "    sampled_features = features.iloc[indices]\n",
    "    sampled_target = target.iloc[indices]\n",
    "\n",
    "\n",
    "    model = logistic_regression()\n",
    "    model.fit(x_train, y_train)\n",
    "    models.append(model)\n",
    "\n",
    "    y_pred = model.predict(x_test)\n",
    "    accuracies.append(accuracy_score(y_test, y_pred))\n",
    "\n",
    "\n"
   ]
  },
  {
   "cell_type": "markdown",
   "metadata": {},
   "source": [
    "# Stacking"
   ]
  },
  {
   "cell_type": "code",
   "execution_count": 93,
   "metadata": {},
   "outputs": [
    {
     "data": {
      "text/plain": [
       "0.7914590747330961"
      ]
     },
     "execution_count": 93,
     "metadata": {},
     "output_type": "execute_result"
    }
   ],
   "source": [
    "# running the model on validation data, then adding those data as features to the validation data,so that we can train the meta model on it\n",
    "val_features = []\n",
    "for model in models:\n",
    "    val_features.append(model.predict(x_val))\n",
    "val_features = np.array(val_features).T\n",
    "\n",
    "# now adding the features to the validation data\n",
    "x_val = np.concatenate((x_val, val_features), axis=1)\n",
    "\n",
    "# training the meta model\n",
    "meta_model = logistic_regression()\n",
    "meta_model.fit(x_val, y_val)\n",
    "\n",
    "# running the model on the test data\n",
    "test_features = []\n",
    "for model in models:\n",
    "    test_features.append(model.predict(x_test))\n",
    "test_features = np.array(test_features).T\n",
    "\n",
    "# now adding the features to the test data\n",
    "x_test = np.concatenate((x_test, test_features), axis=1)\n",
    "\n",
    "# testing the meta model\n",
    "y_pred = meta_model.predict(x_test)\n",
    "accuracy_score(y_test, y_pred)"
   ]
  }
 ],
 "metadata": {
  "kernelspec": {
   "display_name": "Python 3",
   "language": "python",
   "name": "python3"
  },
  "language_info": {
   "codemirror_mode": {
    "name": "ipython",
    "version": 3
   },
   "file_extension": ".py",
   "mimetype": "text/x-python",
   "name": "python",
   "nbconvert_exporter": "python",
   "pygments_lexer": "ipython3",
   "version": "3.10.12"
  }
 },
 "nbformat": 4,
 "nbformat_minor": 2
}
